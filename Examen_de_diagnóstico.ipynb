{
  "nbformat": 4,
  "nbformat_minor": 0,
  "metadata": {
    "colab": {
      "provenance": [],
      "authorship_tag": "ABX9TyP2cmZf+h3eZGrF7niCFOFt",
      "include_colab_link": true
    },
    "kernelspec": {
      "name": "python3",
      "display_name": "Python 3"
    },
    "language_info": {
      "name": "python"
    }
  },
  "cells": [
    {
      "cell_type": "markdown",
      "metadata": {
        "id": "view-in-github",
        "colab_type": "text"
      },
      "source": [
        "<a href=\"https://colab.research.google.com/github/DaryAguinaga23/Unidad1/blob/main/Examen_de_diagn%C3%B3stico.ipynb\" target=\"_parent\"><img src=\"https://colab.research.google.com/assets/colab-badge.svg\" alt=\"Open In Colab\"/></a>"
      ]
    },
    {
      "cell_type": "code",
      "execution_count": 7,
      "metadata": {
        "colab": {
          "base_uri": "https://localhost:8080/"
        },
        "id": "B0TxgInT6mG6",
        "outputId": "5bc4f771-74ec-4d5f-dab6-ab38c682d540"
      },
      "outputs": [
        {
          "name": "stdout",
          "output_type": "stream",
          "text": [
            "Ingrese la cantidad de alumnos: 2\n",
            "Ingrese el nombre del alumno N1:Juan\n",
            "Ingrese la calificación N1: 10\n",
            "Ingrese la calificación N2: 10\n",
            "Ingrese la calificación N3: 10\n",
            "Ingrese el nombre del alumno N2:Pedro\n",
            "Ingrese la calificación N1: 10\n",
            "Ingrese la calificación N2: 20\n",
            "Ingrese la calificación N3: 30\n"
          ]
        }
      ],
      "source": [
        "#Datos del programa\n",
        "\n",
        "\"\"\"\n",
        "  Fecha: 23 de Agosto 2024\n",
        "  Autor: Rodrigo Darío García Aguiñaga\n",
        "  Asignatura: Programación Orientada a Objetos\n",
        "\n",
        "  \"\"\"\n",
        "\n",
        "\n",
        "#Indicaciones:\n",
        "\"\"\" Se pide 3 calificaciones (de 0 a 100) de N alumnos así como el nombre del alumno.\n",
        "Se promedia los alumnos que tenga una calificación menor a 70, se les imprime un mensaje de \"reprobado\".\n",
        "Al finalizar el sistema, se imprime el nombre y el promedio del alumno con mayor calificación y el promedio con menor calificación.\"\n",
        "\n",
        "\n",
        "Se entrega:\n",
        "Algoritmo\n",
        "Diagrama de flujo\n",
        "Código \"\"\"\n",
        "\n",
        "Alumnos =[]\n",
        "Mejor_prom= 0\n",
        "Max_prom=\"\"\n",
        "\n",
        "N=int(input(\"Ingrese la cantidad de alumnos: \"))\n",
        "\n",
        "for i in range (N):\n",
        "  Nombre= input(\"Ingrese el nombre del alumno N\" + str (i+1) + \":\")\n",
        "  cal1=float(input(\"Ingrese la calificación N1: \"))\n",
        "  cal2=float(input(\"Ingrese la calificación N2: \"))\n",
        "  cal3=float(input(\"Ingrese la calificación N3: \"))\n",
        "\n",
        "  Prom=(cal1+cal2+cal3)/3\n",
        "\n",
        "  Alumnos.append((Nombre,Prom))\n",
        "\n",
        "  if Prom<70:\n",
        "   print (Nombre+ \"Reprobado \")\n",
        "\n",
        "\n",
        "\n"
      ]
    }
  ]
}